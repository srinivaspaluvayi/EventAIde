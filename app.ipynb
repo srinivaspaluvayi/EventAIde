{
 "cells": [
  {
   "cell_type": "code",
   "execution_count": 29,
   "id": "4f9e2fb7-16a2-4e93-b692-d08bd8825b60",
   "metadata": {
    "scrolled": true
   },
   "outputs": [],
   "source": [
    "import ollama\n",
    "import gradio as gr\n",
    "from t2 import get_events_info_from_city\n",
    "import json"
   ]
  },
  {
   "cell_type": "code",
   "execution_count": 30,
   "id": "518aa0e2-6a0d-4282-862d-257f524c08a0",
   "metadata": {},
   "outputs": [],
   "source": [
    "MODEL = \"llama3.2\""
   ]
  },
  {
   "cell_type": "code",
   "execution_count": 31,
   "id": "22d7f61d-79d3-4724-a01f-c46c0b5d6f66",
   "metadata": {},
   "outputs": [],
   "source": [
    "system_prompt = \"You are EventAIde, an efficient AI assistant that helps users find events in the city the user mentioned. \"\n",
    "system_prompt += \"Always ask user for the city and if the user doesnt mention then give any city's events. \"\n",
    "system_prompt += \"Give only the requested event details in a short, friendly, and professional reply. \"\n",
    "system_prompt += \"If you do not have information for a city, say so clearly.\"\n",
    "\n",
    "system_message = [{\"role\":\"system\", \"content\": system_prompt}]"
   ]
  },
  {
   "cell_type": "code",
   "execution_count": 32,
   "id": "0280bd06-13b0-4573-a727-b444177c5dbe",
   "metadata": {},
   "outputs": [],
   "source": [
    "event_function = {\n",
    "    \"name\": \"get_events_info_from_city\",\n",
    "    \"description\": \"Get the events happening from the given city. Call this whenever you need to know the events list, for example when a customer asks ‘what events are there in New York'\",\n",
    "    \"parameters\": {\n",
    "        \"type\": \"object\",\n",
    "        \"properties\": {\n",
    "            \"city\": {\n",
    "                \"type\": \"string\",\n",
    "                \"description\": \"All the available events in the customer provided city\",\n",
    "            },\n",
    "        },\n",
    "        \"required\": [\"city\"],\n",
    "        \"additionalProperties\": False\n",
    "    }\n",
    "}"
   ]
  },
  {
   "cell_type": "code",
   "execution_count": 33,
   "id": "182a7dc5-20ba-46a2-8d37-ce03a8045519",
   "metadata": {},
   "outputs": [],
   "source": [
    "tools = [{\"type\": \"function\", \"function\": event_function}]"
   ]
  },
  {
   "cell_type": "code",
   "execution_count": 34,
   "id": "9a469489-5ff5-4d05-a85b-4331c5bf2433",
   "metadata": {},
   "outputs": [],
   "source": [
    "def handle_tool_call(message):\n",
    "    tool_call = message.tool_calls[0]\n",
    "    arguments = tool_call.function.arguments\n",
    "    city = arguments.get('city')\n",
    "    events = get_events_info_from_city(city)\n",
    "    response = {\n",
    "        \"role\": \"tool\",\n",
    "        \"content\": json.dumps({\"city\": city,\"events\": events})\n",
    "    }\n",
    "    return response, city"
   ]
  },
  {
   "cell_type": "code",
   "execution_count": 35,
   "id": "81de29c3-e881-43b0-80b1-eaa8893d5d5b",
   "metadata": {},
   "outputs": [],
   "source": [
    "def chatbot(message, history):\n",
    "    messages = system_message+history+[{\"role\":\"user\", \"content\":message}]\n",
    "    response = ollama.chat(model = MODEL, messages=messages, tools=tools)\n",
    "\n",
    "    print(response)\n",
    "    if response.message.tool_calls:\n",
    "        message = response.message\n",
    "        response, city = handle_tool_call(message)\n",
    "        messages.append(message)\n",
    "        messages.append(response)\n",
    "        response = ollama.chat(model=MODEL, messages=messages)\n",
    "        \n",
    "    return response[\"message\"][\"content\"]"
   ]
  },
  {
   "cell_type": "code",
   "execution_count": 36,
   "id": "7e45e8f9-9e3a-449b-9aa1-7b4eaf94a5f1",
   "metadata": {
    "scrolled": true
   },
   "outputs": [
    {
     "name": "stdout",
     "output_type": "stream",
     "text": [
      "* Running on local URL:  http://127.0.0.1:7863\n",
      "* To create a public link, set `share=True` in `launch()`.\n"
     ]
    },
    {
     "data": {
      "text/html": [
       "<div><iframe src=\"http://127.0.0.1:7863/\" width=\"100%\" height=\"500\" allow=\"autoplay; camera; microphone; clipboard-read; clipboard-write;\" frameborder=\"0\" allowfullscreen></iframe></div>"
      ],
      "text/plain": [
       "<IPython.core.display.HTML object>"
      ]
     },
     "metadata": {},
     "output_type": "display_data"
    },
    {
     "data": {
      "text/plain": []
     },
     "execution_count": 36,
     "metadata": {},
     "output_type": "execute_result"
    },
    {
     "name": "stdout",
     "output_type": "stream",
     "text": [
      "model='llama3.2' created_at='2025-08-15T19:58:36.59968Z' done=True done_reason='stop' total_duration=4502060000 load_duration=3220295125 prompt_eval_count=264 prompt_eval_duration=808566458 eval_count=19 eval_duration=472183125 message=Message(role='assistant', content='', thinking=None, images=None, tool_name=None, tool_calls=[ToolCall(function=Function(name='get_events_info_from_city', arguments={'city': ''}))])\n",
      "model='llama3.2' created_at='2025-08-15T19:59:18.740121Z' done=True done_reason='stop' total_duration=1309114500 load_duration=51057875 prompt_eval_count=328 prompt_eval_duration=782157083 eval_count=19 eval_duration=474488792 message=Message(role='assistant', content='', thinking=None, images=None, tool_name=None, tool_calls=[ToolCall(function=Function(name='get_events_info_from_city', arguments={'city': 'Saint Louis'}))])\n"
     ]
    }
   ],
   "source": [
    "gr.ChatInterface(fn = chatbot, type=\"messages\").launch()"
   ]
  },
  {
   "cell_type": "code",
   "execution_count": null,
   "id": "7ff2c80f-40d5-45b5-8d1a-77be485962ca",
   "metadata": {},
   "outputs": [],
   "source": []
  }
 ],
 "metadata": {
  "kernelspec": {
   "display_name": "Python 3 (ipykernel)",
   "language": "python",
   "name": "python3"
  },
  "language_info": {
   "codemirror_mode": {
    "name": "ipython",
    "version": 3
   },
   "file_extension": ".py",
   "mimetype": "text/x-python",
   "name": "python",
   "nbconvert_exporter": "python",
   "pygments_lexer": "ipython3",
   "version": "3.11.13"
  }
 },
 "nbformat": 4,
 "nbformat_minor": 5
}
