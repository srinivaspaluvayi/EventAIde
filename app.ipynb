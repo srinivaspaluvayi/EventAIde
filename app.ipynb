{
 "cells": [
  {
   "cell_type": "code",
   "execution_count": 1,
   "id": "4f9e2fb7-16a2-4e93-b692-d08bd8825b60",
   "metadata": {},
   "outputs": [],
   "source": [
    "import ollama\n",
    "import gradio as gr"
   ]
  },
  {
   "cell_type": "code",
   "execution_count": 2,
   "id": "518aa0e2-6a0d-4282-862d-257f524c08a0",
   "metadata": {},
   "outputs": [],
   "source": [
    "MODEL = \"llama3.2\""
   ]
  },
  {
   "cell_type": "code",
   "execution_count": 29,
   "id": "22d7f61d-79d3-4724-a01f-c46c0b5d6f66",
   "metadata": {},
   "outputs": [],
   "source": [
    "system_prompt = \"You are EventAIde, an efficient AI chatbot that assists users in finding\\\n",
    "events happening in cities they mention. Do not include unnecessary information or explanations.\\\n",
    "Always maintain a friendly, helpful, and professional tone.\"\n",
    "\n",
    "system_message = [{\"role\":\"system\", \"content\": system_prompt}]"
   ]
  },
  {
   "cell_type": "code",
   "execution_count": 30,
   "id": "81de29c3-e881-43b0-80b1-eaa8893d5d5b",
   "metadata": {},
   "outputs": [],
   "source": [
    "def chatbot(message, history):\n",
    "    messages = system_message+history+[{\"role\":\"user\", \"content\":message}]\n",
    "    response = ollama.chat(model = MODEL, messages=messages, stream=True)\n",
    "    result = \"\"\n",
    "    for chunk in response:\n",
    "        result += chunk[\"message\"][\"content\"] or \"\"\n",
    "        yield result"
   ]
  },
  {
   "cell_type": "code",
   "execution_count": 31,
   "id": "7e45e8f9-9e3a-449b-9aa1-7b4eaf94a5f1",
   "metadata": {
    "scrolled": true
   },
   "outputs": [
    {
     "name": "stdout",
     "output_type": "stream",
     "text": [
      "* Running on local URL:  http://127.0.0.1:7870\n",
      "* To create a public link, set `share=True` in `launch()`.\n"
     ]
    },
    {
     "data": {
      "text/html": [
       "<div><iframe src=\"http://127.0.0.1:7870/\" width=\"100%\" height=\"500\" allow=\"autoplay; camera; microphone; clipboard-read; clipboard-write;\" frameborder=\"0\" allowfullscreen></iframe></div>"
      ],
      "text/plain": [
       "<IPython.core.display.HTML object>"
      ]
     },
     "metadata": {},
     "output_type": "display_data"
    },
    {
     "data": {
      "text/plain": []
     },
     "execution_count": 31,
     "metadata": {},
     "output_type": "execute_result"
    }
   ],
   "source": [
    "gr.ChatInterface(fn = chatbot, type=\"messages\").launch()"
   ]
  },
  {
   "cell_type": "code",
   "execution_count": null,
   "id": "a2e9f29a-cc5c-4643-ad3b-42c699091ea7",
   "metadata": {},
   "outputs": [],
   "source": []
  }
 ],
 "metadata": {
  "kernelspec": {
   "display_name": "Python 3 (ipykernel)",
   "language": "python",
   "name": "python3"
  },
  "language_info": {
   "codemirror_mode": {
    "name": "ipython",
    "version": 3
   },
   "file_extension": ".py",
   "mimetype": "text/x-python",
   "name": "python",
   "nbconvert_exporter": "python",
   "pygments_lexer": "ipython3",
   "version": "3.11.13"
  }
 },
 "nbformat": 4,
 "nbformat_minor": 5
}
