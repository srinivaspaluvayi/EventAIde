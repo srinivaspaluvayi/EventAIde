{
 "cells": [
  {
   "cell_type": "code",
   "execution_count": 9,
   "id": "4f9e2fb7-16a2-4e93-b692-d08bd8825b60",
   "metadata": {
    "scrolled": true
   },
   "outputs": [],
   "source": [
    "import ollama\n",
    "import gradio as gr\n",
    "import json\n",
    "\n",
    "import nbimporter\n",
    "\n",
    "from events_api import get_events_info_from_city\n",
    "from city_corrections import get_city"
   ]
  },
  {
   "cell_type": "code",
   "execution_count": 10,
   "id": "518aa0e2-6a0d-4282-862d-257f524c08a0",
   "metadata": {},
   "outputs": [],
   "source": [
    "MODEL = \"llama3.2\""
   ]
  },
  {
   "cell_type": "code",
   "execution_count": 11,
   "id": "22d7f61d-79d3-4724-a01f-c46c0b5d6f66",
   "metadata": {},
   "outputs": [],
   "source": [
    "system_prompt = \"You are EventAIde, an efficient AI assistant that helps users find events in the city the user mentioned. \"\n",
    "system_prompt += \"At the start of every reply, introduce yourself as 'EventAIde'. \"\n",
    "system_prompt += \"Always ask user for the city and if the user doesnt mention then give any city's events. \"\n",
    "system_prompt += \"Give only the requested event details in a short, friendly, and professional reply. \"\n",
    "system_prompt += \"If you do not KNOW the requested event details for a city, simply reply:\\\n",
    "'Sorry, I do not have information for that city at this time.' \\\n",
    "Never make up any details or invent events.\"\n",
    "\n",
    "system_message = [{\"role\":\"system\", \"content\": system_prompt}]"
   ]
  },
  {
   "cell_type": "code",
   "execution_count": 12,
   "id": "0280bd06-13b0-4573-a727-b444177c5dbe",
   "metadata": {},
   "outputs": [],
   "source": [
    "event_function = {\n",
    "    \"name\": \"get_events_info_from_city\",\n",
    "    \"description\": \"Get the events happening from the given city. Call this whenever you need to know the events list, for example when a customer asks ‘what events are there in New York'\",\n",
    "    \"parameters\": {\n",
    "        \"type\": \"object\",\n",
    "        \"properties\": {\n",
    "            \"city\": {\n",
    "                \"type\": \"string\",\n",
    "                \"description\": \"All the available events in the customer provided city\",\n",
    "            },\n",
    "        },\n",
    "        \"required\": [\"city\"],\n",
    "        \"additionalProperties\": False\n",
    "    }\n",
    "}\n",
    "tools = [{\"type\": \"function\", \"function\": event_function}]"
   ]
  },
  {
   "cell_type": "code",
   "execution_count": 13,
   "id": "f9828a30-d572-4339-8474-98c2cc0c8904",
   "metadata": {},
   "outputs": [],
   "source": [
    "events_data_ex = {\n",
    "    \"Sports\": {\n",
    "        \"Baseball\": [\n",
    "            {\n",
    "                \"name\": \"A vs. B\",\n",
    "                \"date\": \"2025-08-16\",\n",
    "                \"time\": \"18:15:00\",\n",
    "                \"venue\": {\n",
    "                    \"name\": \"ABC Stadium\",\n",
    "                    \"address\": \"420 S Street.\",\n",
    "                    \"city\": \"ABC city\",\n",
    "                    \"state\": \"DEF\"\n",
    "                },\n",
    "                \"subgenre\": \"MLB\"\n",
    "            },\n",
    "            # More baseball events...\n",
    "        ]\n",
    "        # More sports genres...\n",
    "    },\n",
    "    \"Music\": {\n",
    "        \"Rock\": [\n",
    "            {\n",
    "                \"name\": \"The ABC Band\",\n",
    "                \"date\": \"2025-08-17\",\n",
    "                \"time\": \"19:30:00\",\n",
    "                \"venue\": {\n",
    "                    \"name\": \"The Factory\",\n",
    "                    \"address\": \"1710 N Road\",\n",
    "                    \"city\": \"ABC city\",\n",
    "                    \"state\": \"DEF\"\n",
    "                },\n",
    "                \"subgenre\": \"Rock\"\n",
    "            },\n",
    "            # More rock events...\n",
    "        ]\n",
    "        # More music genres...\n",
    "    },\n",
    "    \"Arts & Theatre\": {\n",
    "        \"Comedy\": [\n",
    "            {\n",
    "                \"name\": \"Show\",\n",
    "                \"date\": \"2025-10-22\",\n",
    "                \"time\": \"20:00:00\",\n",
    "                \"venue\": {\n",
    "                    \"name\": \"The ABC\",\n",
    "                    \"address\": \"6161 Delmar\",\n",
    "                    \"city\": \"ABC City\",\n",
    "                    \"state\": \"DEF\"\n",
    "                },\n",
    "                \"subgenre\": \"Comedy\"\n",
    "            },\n",
    "            # More comedy events...\n",
    "        ],\n",
    "        # More arts genres...\n",
    "    },\n",
    "    # More top-level categories (e.g., 'Miscellaneous', 'Film') as needed...\n",
    "}\n",
    "\n",
    "\n",
    "system_promp_city = f\"\"\"\n",
    "You have a variable 'events_data' that looks like this:\n",
    "{repr(events_data_ex)}\n",
    "\n",
    "When both city and type are known, output the list in this format (one per line and grouped by category):\n",
    "Sports:\n",
    "event name - venue name - date\n",
    "Music:\n",
    "event name - venue name - date\n",
    "\n",
    "For example:\n",
    "Sports:\n",
    "A vs. B - ABC Stadium - 2025-08-16\n",
    "Music:\n",
    "The ABC Band - The Factory - 2025-08-17\n",
    "\"\"\""
   ]
  },
  {
   "cell_type": "code",
   "execution_count": 14,
   "id": "182a7dc5-20ba-46a2-8d37-ce03a8045519",
   "metadata": {},
   "outputs": [],
   "source": [
    "def handle_tool_call(message):\n",
    "    tool_call = message.tool_calls[0]\n",
    "    arguments = tool_call.function.arguments\n",
    "    city = get_city(arguments.get('city'))\n",
    "    events = get_events_info_from_city(city)\n",
    "    response = {\n",
    "        \"role\": \"tool\",\n",
    "        \"content\": json.dumps({\"city\": city,\"events\": events})\n",
    "    }\n",
    "    return response, city"
   ]
  },
  {
   "cell_type": "code",
   "execution_count": 15,
   "id": "9a469489-5ff5-4d05-a85b-4331c5bf2433",
   "metadata": {},
   "outputs": [],
   "source": [
    "def chatbot(message, history):\n",
    "    messages = system_message+history+[{\"role\":\"user\", \"content\":message}]\n",
    "    response = ollama.chat(model = MODEL, messages=messages, tools=tools)\n",
    "    if response.message.tool_calls:\n",
    "        message = response.message\n",
    "        response, city = handle_tool_call(message)\n",
    "        messages.append(message)\n",
    "        messages.append({\"role\":\"system\", \"content\":system_promp_city})\n",
    "        messages.append(response)\n",
    "        response = ollama.chat(model=MODEL, messages=messages)\n",
    "        \n",
    "    return response[\"message\"][\"content\"]"
   ]
  },
  {
   "cell_type": "code",
   "execution_count": 16,
   "id": "7e45e8f9-9e3a-449b-9aa1-7b4eaf94a5f1",
   "metadata": {
    "scrolled": true
   },
   "outputs": [
    {
     "name": "stdout",
     "output_type": "stream",
     "text": [
      "* Running on local URL:  http://127.0.0.1:7861\n",
      "* To create a public link, set `share=True` in `launch()`.\n"
     ]
    },
    {
     "data": {
      "text/html": [
       "<div><iframe src=\"http://127.0.0.1:7861/\" width=\"100%\" height=\"500\" allow=\"autoplay; camera; microphone; clipboard-read; clipboard-write;\" frameborder=\"0\" allowfullscreen></iframe></div>"
      ],
      "text/plain": [
       "<IPython.core.display.HTML object>"
      ]
     },
     "metadata": {},
     "output_type": "display_data"
    },
    {
     "data": {
      "text/plain": []
     },
     "execution_count": 16,
     "metadata": {},
     "output_type": "execute_result"
    }
   ],
   "source": [
    "gr.ChatInterface(fn = chatbot, type=\"messages\").launch()"
   ]
  },
  {
   "cell_type": "code",
   "execution_count": null,
   "id": "7ff2c80f-40d5-45b5-8d1a-77be485962ca",
   "metadata": {},
   "outputs": [],
   "source": []
  }
 ],
 "metadata": {
  "kernelspec": {
   "display_name": "Python 3 (ipykernel)",
   "language": "python",
   "name": "python3"
  },
  "language_info": {
   "codemirror_mode": {
    "name": "ipython",
    "version": 3
   },
   "file_extension": ".py",
   "mimetype": "text/x-python",
   "name": "python",
   "nbconvert_exporter": "python",
   "pygments_lexer": "ipython3",
   "version": "3.11.13"
  }
 },
 "nbformat": 4,
 "nbformat_minor": 5
}
