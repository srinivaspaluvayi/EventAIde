{
 "cells": [
  {
   "cell_type": "code",
   "execution_count": 2,
   "id": "47bf4ec0-e9e4-4ee0-88ae-8f00c53e1490",
   "metadata": {},
   "outputs": [],
   "source": [
    "import ollama\n",
    "import re\n",
    "import json"
   ]
  },
  {
   "cell_type": "code",
   "execution_count": 3,
   "id": "80d1b8c7-f7af-4d66-ba31-7c05cf03021e",
   "metadata": {},
   "outputs": [],
   "source": [
    "def get_city(city):\n",
    "    \n",
    "    system_m = \"Correct the following city name for spelling errors and output only the most likely city name:\\n\"\n",
    "    system_m += \"For example: input :  naw yorkk, output: new york\\n\"\n",
    "    system_m += \"Do NOT explain your answer. Do NOT show any thoughts. Output ONLY the corrected city name.\\n\"\n",
    "    system_m += \"Your response should be in JSON format like {'corrected_city':city}\"\n",
    "    system_p = [{\"role\":\"system\", \"content\":system_m}]\n",
    "\n",
    "    auto_corrections_model = \"qwen3:1.7b\"\n",
    "    \n",
    "    messages = system_p + [{\"role\":\"user\", \"content\": city}]\n",
    "    response = ollama.chat(model = auto_corrections_model, messages = messages)\n",
    "    city = response['message']['content']\n",
    "    match = re.search(r'\\{.*\\}', city)\n",
    "    if match:\n",
    "        json_str = match.group(0)\n",
    "        try:\n",
    "            data = json.loads(json_str)\n",
    "            corrected_city = data.get('corrected_city', '').strip()\n",
    "        except json.JSONDecodeError:\n",
    "            corrected_city = ''\n",
    "    else:\n",
    "        corrected_city = ''\n",
    "    return corrected_city"
   ]
  },
  {
   "cell_type": "code",
   "execution_count": 4,
   "id": "19394298-9966-42ed-84fc-e98ad6ec8862",
   "metadata": {},
   "outputs": [
    {
     "data": {
      "text/plain": [
       "'new york'"
      ]
     },
     "execution_count": 4,
     "metadata": {},
     "output_type": "execute_result"
    }
   ],
   "source": [
    "get_city(\"naw yerse\")"
   ]
  },
  {
   "cell_type": "code",
   "execution_count": null,
   "id": "c785f70d-0a9c-4a71-8dfa-67d1e7212595",
   "metadata": {},
   "outputs": [],
   "source": []
  },
  {
   "cell_type": "code",
   "execution_count": null,
   "id": "2250d156-4e18-4209-9b50-fe921a0a8980",
   "metadata": {},
   "outputs": [],
   "source": []
  }
 ],
 "metadata": {
  "kernelspec": {
   "display_name": "Python 3 (ipykernel)",
   "language": "python",
   "name": "python3"
  },
  "language_info": {
   "codemirror_mode": {
    "name": "ipython",
    "version": 3
   },
   "file_extension": ".py",
   "mimetype": "text/x-python",
   "name": "python",
   "nbconvert_exporter": "python",
   "pygments_lexer": "ipython3",
   "version": "3.11.13"
  }
 },
 "nbformat": 4,
 "nbformat_minor": 5
}
